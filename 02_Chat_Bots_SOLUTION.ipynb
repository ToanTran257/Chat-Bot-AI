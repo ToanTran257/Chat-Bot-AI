{
  "nbformat": 4,
  "nbformat_minor": 0,
  "metadata": {
    "kernelspec": {
      "name": "python3",
      "display_name": "Python 3"
    },
    "language_info": {
      "codemirror_mode": {
        "name": "ipython",
        "version": 3
      },
      "file_extension": ".py",
      "mimetype": "text/x-python",
      "name": "python",
      "nbconvert_exporter": "python",
      "pygments_lexer": "ipython3",
      "version": "3.7.4"
    },
    "colab": {
      "name": "02-Chat-Bots-SOLUTION.ipynb",
      "provenance": []
    },
    "accelerator": "GPU"
  },
  "cells": [
    {
      "cell_type": "markdown",
      "metadata": {
        "id": "C4-rUG7Xadu4",
        "colab_type": "text"
      },
      "source": [
        "\n",
        "# Question and Answer Chat Bots"
      ]
    },
    {
      "cell_type": "markdown",
      "metadata": {
        "id": "DiB8JVB1adu7",
        "colab_type": "text"
      },
      "source": [
        "## Loading the Data\n",
        "\n",
        "We will be working with the Babi Data Set from Facebook Research.\n",
        "\n",
        "Full Details: https://research.fb.com/downloads/babi/\n",
        "\n",
        "- Jason Weston, Antoine Bordes, Sumit Chopra, Tomas Mikolov, Alexander M. Rush,\n",
        "  \"Towards AI-Complete Question Answering: A Set of Prerequisite Toy Tasks\",\n",
        "  http://arxiv.org/abs/1502.05698\n"
      ]
    },
    {
      "cell_type": "code",
      "metadata": {
        "id": "WyrWW6BDadu8",
        "colab_type": "code",
        "colab": {}
      },
      "source": [
        "import pickle\n",
        "import numpy as np"
      ],
      "execution_count": 0,
      "outputs": []
    },
    {
      "cell_type": "code",
      "metadata": {
        "id": "kk1LjuAwadu-",
        "colab_type": "code",
        "colab": {}
      },
      "source": [
        "with open(\"train_qa.txt\", \"rb\") as fp:   # Unpickling\n",
        "    train_data =  pickle.load(fp)"
      ],
      "execution_count": 0,
      "outputs": []
    },
    {
      "cell_type": "code",
      "metadata": {
        "id": "V7YYg4kNadvA",
        "colab_type": "code",
        "colab": {}
      },
      "source": [
        "with open(\"test_qa.txt\", \"rb\") as fp:   # Unpickling\n",
        "    test_data =  pickle.load(fp)"
      ],
      "execution_count": 0,
      "outputs": []
    },
    {
      "cell_type": "markdown",
      "metadata": {
        "id": "_hWxjgZDadvB",
        "colab_type": "text"
      },
      "source": [
        "----"
      ]
    },
    {
      "cell_type": "markdown",
      "metadata": {
        "id": "bJnEAAJSadvC",
        "colab_type": "text"
      },
      "source": [
        "## Exploring the Format of the Data"
      ]
    },
    {
      "cell_type": "code",
      "metadata": {
        "id": "K4C8ATKpadvC",
        "colab_type": "code",
        "outputId": "83f5f582-7a99-48ea-ae7d-d5f4d731fb83",
        "colab": {
          "base_uri": "https://localhost:8080/",
          "height": 34
        }
      },
      "source": [
        "type(test_data)"
      ],
      "execution_count": 0,
      "outputs": [
        {
          "output_type": "execute_result",
          "data": {
            "text/plain": [
              "list"
            ]
          },
          "metadata": {
            "tags": []
          },
          "execution_count": 148
        }
      ]
    },
    {
      "cell_type": "code",
      "metadata": {
        "id": "QIX-qZg-advE",
        "colab_type": "code",
        "outputId": "54f72941-840c-403c-c528-182713d486dc",
        "colab": {
          "base_uri": "https://localhost:8080/",
          "height": 34
        }
      },
      "source": [
        "type(train_data)"
      ],
      "execution_count": 0,
      "outputs": [
        {
          "output_type": "execute_result",
          "data": {
            "text/plain": [
              "list"
            ]
          },
          "metadata": {
            "tags": []
          },
          "execution_count": 149
        }
      ]
    },
    {
      "cell_type": "code",
      "metadata": {
        "id": "l8UvyBViadvF",
        "colab_type": "code",
        "outputId": "862f2904-c1db-4f0e-f6a2-65210ac24bd4",
        "colab": {
          "base_uri": "https://localhost:8080/",
          "height": 34
        }
      },
      "source": [
        "len(test_data)"
      ],
      "execution_count": 0,
      "outputs": [
        {
          "output_type": "execute_result",
          "data": {
            "text/plain": [
              "1000"
            ]
          },
          "metadata": {
            "tags": []
          },
          "execution_count": 150
        }
      ]
    },
    {
      "cell_type": "code",
      "metadata": {
        "id": "F5U1z-bvadvI",
        "colab_type": "code",
        "outputId": "444af86a-4c04-421f-f264-fea99bbbea40",
        "colab": {
          "base_uri": "https://localhost:8080/",
          "height": 34
        }
      },
      "source": [
        "len(train_data)"
      ],
      "execution_count": 0,
      "outputs": [
        {
          "output_type": "execute_result",
          "data": {
            "text/plain": [
              "10000"
            ]
          },
          "metadata": {
            "tags": []
          },
          "execution_count": 151
        }
      ]
    },
    {
      "cell_type": "code",
      "metadata": {
        "id": "dtaLDGX0advJ",
        "colab_type": "code",
        "outputId": "a315fa62-b889-417e-c6c2-9d3a7f2e44cb",
        "colab": {
          "base_uri": "https://localhost:8080/",
          "height": 255
        }
      },
      "source": [
        "train_data[0]"
      ],
      "execution_count": 0,
      "outputs": [
        {
          "output_type": "execute_result",
          "data": {
            "text/plain": [
              "(['Mary',\n",
              "  'moved',\n",
              "  'to',\n",
              "  'the',\n",
              "  'bathroom',\n",
              "  '.',\n",
              "  'Sandra',\n",
              "  'journeyed',\n",
              "  'to',\n",
              "  'the',\n",
              "  'bedroom',\n",
              "  '.'],\n",
              " ['Is', 'Sandra', 'in', 'the', 'hallway', '?'],\n",
              " 'no')"
            ]
          },
          "metadata": {
            "tags": []
          },
          "execution_count": 152
        }
      ]
    },
    {
      "cell_type": "code",
      "metadata": {
        "id": "gaWCxFM5advL",
        "colab_type": "code",
        "outputId": "77fdef96-c486-4eea-fd38-ee1fb0e77285",
        "colab": {
          "base_uri": "https://localhost:8080/",
          "height": 54
        }
      },
      "source": [
        "' '.join(train_data[3][0])"
      ],
      "execution_count": 0,
      "outputs": [
        {
          "output_type": "execute_result",
          "data": {
            "text/plain": [
              "'Mary moved to the bathroom . Sandra journeyed to the bedroom . Mary went back to the bedroom . Daniel went back to the hallway . Sandra went to the kitchen . Daniel went back to the bathroom . Daniel picked up the football there . Daniel went to the bedroom .'"
            ]
          },
          "metadata": {
            "tags": []
          },
          "execution_count": 153
        }
      ]
    },
    {
      "cell_type": "code",
      "metadata": {
        "id": "5FLTUhl7advN",
        "colab_type": "code",
        "outputId": "373c0dc1-650d-4039-8f88-6d94cc6135d1",
        "colab": {
          "base_uri": "https://localhost:8080/",
          "height": 34
        }
      },
      "source": [
        "' '.join(train_data[3][1])"
      ],
      "execution_count": 0,
      "outputs": [
        {
          "output_type": "execute_result",
          "data": {
            "text/plain": [
              "'Is Daniel in the bedroom ?'"
            ]
          },
          "metadata": {
            "tags": []
          },
          "execution_count": 154
        }
      ]
    },
    {
      "cell_type": "code",
      "metadata": {
        "id": "p3Eqlf8padvP",
        "colab_type": "code",
        "outputId": "769265dd-b28f-4605-fe21-03ca92b08af2",
        "colab": {
          "base_uri": "https://localhost:8080/",
          "height": 187
        }
      },
      "source": [
        "# train_data[3][2]\n",
        "\n",
        "for x in range(10):\n",
        "  print(train_data[x][2])"
      ],
      "execution_count": 0,
      "outputs": [
        {
          "output_type": "stream",
          "text": [
            "no\n",
            "no\n",
            "no\n",
            "yes\n",
            "yes\n",
            "yes\n",
            "no\n",
            "no\n",
            "no\n",
            "yes\n"
          ],
          "name": "stdout"
        }
      ]
    },
    {
      "cell_type": "markdown",
      "metadata": {
        "id": "OjYF4wdHadvQ",
        "colab_type": "text"
      },
      "source": [
        "-----\n",
        "\n",
        "## Setting up Vocabulary of All Words"
      ]
    },
    {
      "cell_type": "code",
      "metadata": {
        "id": "1LFzIjP0advQ",
        "colab_type": "code",
        "colab": {}
      },
      "source": [
        "# Create a set that holds the vocab words\n",
        "vocab = set()"
      ],
      "execution_count": 0,
      "outputs": []
    },
    {
      "cell_type": "code",
      "metadata": {
        "id": "8AGYf1rLadvS",
        "colab_type": "code",
        "colab": {}
      },
      "source": [
        "all_data = test_data + train_data"
      ],
      "execution_count": 0,
      "outputs": []
    },
    {
      "cell_type": "code",
      "metadata": {
        "id": "f53KVgTYadvU",
        "colab_type": "code",
        "colab": {}
      },
      "source": [
        "for story, question , answer in all_data:\n",
        "    # In case you don't know what a union of sets is:\n",
        "    # https://www.programiz.com/python-programming/methods/set/union\n",
        "    vocab = vocab.union(set(story))\n",
        "    vocab = vocab.union(set(question))"
      ],
      "execution_count": 0,
      "outputs": []
    },
    {
      "cell_type": "code",
      "metadata": {
        "id": "ba6Edfl5advV",
        "colab_type": "code",
        "colab": {}
      },
      "source": [
        "vocab.add('no')\n",
        "vocab.add('yes')"
      ],
      "execution_count": 0,
      "outputs": []
    },
    {
      "cell_type": "code",
      "metadata": {
        "id": "k4HEBaEWadvW",
        "colab_type": "code",
        "outputId": "b078617d-945c-4501-f93b-1256191ebd58",
        "colab": {
          "base_uri": "https://localhost:8080/",
          "height": 646
        }
      },
      "source": [
        "vocab"
      ],
      "execution_count": 0,
      "outputs": [
        {
          "output_type": "execute_result",
          "data": {
            "text/plain": [
              "{'.',\n",
              " '?',\n",
              " 'Daniel',\n",
              " 'Is',\n",
              " 'John',\n",
              " 'Mary',\n",
              " 'Sandra',\n",
              " 'apple',\n",
              " 'back',\n",
              " 'bathroom',\n",
              " 'bedroom',\n",
              " 'discarded',\n",
              " 'down',\n",
              " 'dropped',\n",
              " 'football',\n",
              " 'garden',\n",
              " 'got',\n",
              " 'grabbed',\n",
              " 'hallway',\n",
              " 'in',\n",
              " 'journeyed',\n",
              " 'kitchen',\n",
              " 'left',\n",
              " 'milk',\n",
              " 'moved',\n",
              " 'no',\n",
              " 'office',\n",
              " 'picked',\n",
              " 'put',\n",
              " 'the',\n",
              " 'there',\n",
              " 'to',\n",
              " 'took',\n",
              " 'travelled',\n",
              " 'up',\n",
              " 'went',\n",
              " 'yes'}"
            ]
          },
          "metadata": {
            "tags": []
          },
          "execution_count": 160
        }
      ]
    },
    {
      "cell_type": "code",
      "metadata": {
        "id": "i6-1qsh3advY",
        "colab_type": "code",
        "colab": {}
      },
      "source": [
        "vocab_len = len(vocab) + 1 #we add an extra space to hold a 0 for Keras's pad_sequences"
      ],
      "execution_count": 0,
      "outputs": []
    },
    {
      "cell_type": "code",
      "metadata": {
        "id": "Nu_biBa2advZ",
        "colab_type": "code",
        "colab": {}
      },
      "source": [
        "max_story_len = max([len(data[0]) for data in all_data])"
      ],
      "execution_count": 0,
      "outputs": []
    },
    {
      "cell_type": "code",
      "metadata": {
        "id": "SPuSMvOiadvb",
        "colab_type": "code",
        "outputId": "3c572536-27c8-4964-ee9d-a89a32b36690",
        "colab": {
          "base_uri": "https://localhost:8080/",
          "height": 34
        }
      },
      "source": [
        "max_story_len"
      ],
      "execution_count": 0,
      "outputs": [
        {
          "output_type": "execute_result",
          "data": {
            "text/plain": [
              "156"
            ]
          },
          "metadata": {
            "tags": []
          },
          "execution_count": 163
        }
      ]
    },
    {
      "cell_type": "code",
      "metadata": {
        "id": "ME_ydMt_advf",
        "colab_type": "code",
        "colab": {}
      },
      "source": [
        "max_question_len = max([len(data[1]) for data in all_data])"
      ],
      "execution_count": 0,
      "outputs": []
    },
    {
      "cell_type": "code",
      "metadata": {
        "id": "D_sSzs5gadvh",
        "colab_type": "code",
        "outputId": "21a2f4a6-3e49-4cb7-f912-8efc2f55c68f",
        "colab": {
          "base_uri": "https://localhost:8080/",
          "height": 34
        }
      },
      "source": [
        "max_question_len"
      ],
      "execution_count": 0,
      "outputs": [
        {
          "output_type": "execute_result",
          "data": {
            "text/plain": [
              "6"
            ]
          },
          "metadata": {
            "tags": []
          },
          "execution_count": 165
        }
      ]
    },
    {
      "cell_type": "markdown",
      "metadata": {
        "id": "3kzKXqy3advi",
        "colab_type": "text"
      },
      "source": [
        "## Vectorizing the Data"
      ]
    },
    {
      "cell_type": "code",
      "metadata": {
        "id": "_vfvYngCadvj",
        "colab_type": "code",
        "outputId": "7a003f22-6fa3-4809-c3e3-179ef2f2cc9f",
        "colab": {
          "base_uri": "https://localhost:8080/",
          "height": 646
        }
      },
      "source": [
        "vocab"
      ],
      "execution_count": 0,
      "outputs": [
        {
          "output_type": "execute_result",
          "data": {
            "text/plain": [
              "{'.',\n",
              " '?',\n",
              " 'Daniel',\n",
              " 'Is',\n",
              " 'John',\n",
              " 'Mary',\n",
              " 'Sandra',\n",
              " 'apple',\n",
              " 'back',\n",
              " 'bathroom',\n",
              " 'bedroom',\n",
              " 'discarded',\n",
              " 'down',\n",
              " 'dropped',\n",
              " 'football',\n",
              " 'garden',\n",
              " 'got',\n",
              " 'grabbed',\n",
              " 'hallway',\n",
              " 'in',\n",
              " 'journeyed',\n",
              " 'kitchen',\n",
              " 'left',\n",
              " 'milk',\n",
              " 'moved',\n",
              " 'no',\n",
              " 'office',\n",
              " 'picked',\n",
              " 'put',\n",
              " 'the',\n",
              " 'there',\n",
              " 'to',\n",
              " 'took',\n",
              " 'travelled',\n",
              " 'up',\n",
              " 'went',\n",
              " 'yes'}"
            ]
          },
          "metadata": {
            "tags": []
          },
          "execution_count": 166
        }
      ]
    },
    {
      "cell_type": "code",
      "metadata": {
        "id": "NTKnn2jiadvk",
        "colab_type": "code",
        "colab": {}
      },
      "source": [
        "# Reserve 0 for pad_sequences\n",
        "vocab_size = len(vocab) + 1"
      ],
      "execution_count": 0,
      "outputs": []
    },
    {
      "cell_type": "markdown",
      "metadata": {
        "id": "33wwiYmTadvl",
        "colab_type": "text"
      },
      "source": [
        "-----------"
      ]
    },
    {
      "cell_type": "code",
      "metadata": {
        "id": "bM3EEvENadvm",
        "colab_type": "code",
        "colab": {}
      },
      "source": [
        "from keras.preprocessing.sequence import pad_sequences\n",
        "from keras.preprocessing.text import Tokenizer"
      ],
      "execution_count": 0,
      "outputs": []
    },
    {
      "cell_type": "code",
      "metadata": {
        "id": "w9ac_dGRadvn",
        "colab_type": "code",
        "colab": {}
      },
      "source": [
        "# integer encode sequences of words\n",
        "tokenizer = Tokenizer(filters=[])\n",
        "tokenizer.fit_on_texts(vocab)"
      ],
      "execution_count": 0,
      "outputs": []
    },
    {
      "cell_type": "code",
      "metadata": {
        "id": "VT3_P-Oiadvp",
        "colab_type": "code",
        "outputId": "068e2307-6878-49d5-b98d-9449243583ad",
        "colab": {
          "base_uri": "https://localhost:8080/",
          "height": 646
        }
      },
      "source": [
        "tokenizer.word_index"
      ],
      "execution_count": 0,
      "outputs": [
        {
          "output_type": "execute_result",
          "data": {
            "text/plain": [
              "{'.': 20,\n",
              " '?': 31,\n",
              " 'apple': 30,\n",
              " 'back': 9,\n",
              " 'bathroom': 29,\n",
              " 'bedroom': 28,\n",
              " 'daniel': 22,\n",
              " 'discarded': 33,\n",
              " 'down': 7,\n",
              " 'dropped': 37,\n",
              " 'football': 24,\n",
              " 'garden': 4,\n",
              " 'got': 8,\n",
              " 'grabbed': 25,\n",
              " 'hallway': 16,\n",
              " 'in': 1,\n",
              " 'is': 3,\n",
              " 'john': 14,\n",
              " 'journeyed': 5,\n",
              " 'kitchen': 19,\n",
              " 'left': 35,\n",
              " 'mary': 23,\n",
              " 'milk': 6,\n",
              " 'moved': 15,\n",
              " 'no': 2,\n",
              " 'office': 34,\n",
              " 'picked': 36,\n",
              " 'put': 18,\n",
              " 'sandra': 11,\n",
              " 'the': 32,\n",
              " 'there': 21,\n",
              " 'to': 17,\n",
              " 'took': 12,\n",
              " 'travelled': 26,\n",
              " 'up': 13,\n",
              " 'went': 27,\n",
              " 'yes': 10}"
            ]
          },
          "metadata": {
            "tags": []
          },
          "execution_count": 170
        }
      ]
    },
    {
      "cell_type": "code",
      "metadata": {
        "id": "tHlDxebDadvq",
        "colab_type": "code",
        "colab": {}
      },
      "source": [
        "train_story_text = []\n",
        "train_question_text = []\n",
        "train_answers = []\n",
        "\n",
        "for story,question,answer in train_data:\n",
        "    train_story_text.append(story)\n",
        "    train_question_text.append(question)"
      ],
      "execution_count": 0,
      "outputs": []
    },
    {
      "cell_type": "code",
      "metadata": {
        "id": "UpYfdUSCadvs",
        "colab_type": "code",
        "colab": {}
      },
      "source": [
        "train_story_seq = tokenizer.texts_to_sequences(train_story_text)"
      ],
      "execution_count": 0,
      "outputs": []
    },
    {
      "cell_type": "code",
      "metadata": {
        "id": "i9SpIGF7advt",
        "colab_type": "code",
        "outputId": "b4f9afd0-4326-4764-8957-52057370a82b",
        "colab": {
          "base_uri": "https://localhost:8080/",
          "height": 34
        }
      },
      "source": [
        "len(train_story_text)"
      ],
      "execution_count": 0,
      "outputs": [
        {
          "output_type": "execute_result",
          "data": {
            "text/plain": [
              "10000"
            ]
          },
          "metadata": {
            "tags": []
          },
          "execution_count": 173
        }
      ]
    },
    {
      "cell_type": "code",
      "metadata": {
        "id": "_mer3URpadvv",
        "colab_type": "code",
        "outputId": "353f3243-79a5-452a-8a8c-d39a96787d53",
        "colab": {
          "base_uri": "https://localhost:8080/",
          "height": 34
        }
      },
      "source": [
        "len(train_story_seq)"
      ],
      "execution_count": 0,
      "outputs": [
        {
          "output_type": "execute_result",
          "data": {
            "text/plain": [
              "10000"
            ]
          },
          "metadata": {
            "tags": []
          },
          "execution_count": 174
        }
      ]
    },
    {
      "cell_type": "code",
      "metadata": {
        "id": "qQk0TaFZadvx",
        "colab_type": "code",
        "colab": {}
      },
      "source": [
        "# word_index = tokenizer.word_index"
      ],
      "execution_count": 0,
      "outputs": []
    },
    {
      "cell_type": "markdown",
      "metadata": {
        "id": "sqe3elfSadvy",
        "colab_type": "text"
      },
      "source": [
        "### Functionalize Vectorization"
      ]
    },
    {
      "cell_type": "code",
      "metadata": {
        "id": "iw2uvyD3advy",
        "colab_type": "code",
        "colab": {}
      },
      "source": [
        "def vectorize_stories(data, \n",
        "                      word_index=tokenizer.word_index, \n",
        "                      max_story_len=max_story_len,\n",
        "                      max_question_len=max_question_len):\n",
        "    '''\n",
        "    INPUT: \n",
        "    \n",
        "    data: consisting of Stories,Queries,and Answers\n",
        "    word_index: word index dictionary from tokenizer\n",
        "    max_story_len: the length of the longest story (used for pad_sequences function)\n",
        "    max_question_len: length of the longest question (used for pad_sequences function)\n",
        "\n",
        "\n",
        "    OUTPUT:\n",
        "    \n",
        "    Vectorizes the stories,questions, and answers into padded sequences. We first loop for every story, query , and\n",
        "    answer in the data. Then we convert the raw words to an word index value. Then we append each set to their appropriate\n",
        "    output list. Then once we have converted the words to numbers, we pad the sequences so they are all of equal length.\n",
        "    \n",
        "    Returns this in the form of a tuple (X,Xq,Y) (padded based on max lengths)\n",
        "    '''\n",
        "    \n",
        "    \n",
        "    # X = STORIES\n",
        "    X = []\n",
        "    # Xq = QUERY/QUESTION\n",
        "    Xq = []\n",
        "    # Y = CORRECT ANSWER\n",
        "    Y = []\n",
        "    \n",
        "    \n",
        "    for story, query, answer in data:\n",
        "        \n",
        "        # Grab the word index for every word in story\n",
        "        x = [word_index[word.lower()] for word in story]\n",
        "        # Grab the word index for every word in query\n",
        "        xq = [word_index[word.lower()] for word in query]\n",
        "        \n",
        "        # Grab the Answers (either Yes/No so we don't need to use list comprehension here)\n",
        "        # Index 0 is reserved so we're going to use + 1\n",
        "        y = np.zeros(len(word_index) + 1)\n",
        "        \n",
        "        # Now that y is all zeros and we know its just Yes/No , we can use numpy logic to create this assignment\n",
        "        #\n",
        "        y[word_index[answer]] = 1\n",
        "        \n",
        "        # Append each set of story,query, and answer to their respective holding lists\n",
        "        X.append(x)\n",
        "        Xq.append(xq)\n",
        "        Y.append(y)\n",
        "        \n",
        "    # Finally, pad the sequences based on their max length so the RNN can be trained on uniformly long sequences.\n",
        "        \n",
        "    # RETURN TUPLE FOR UNPACKING\n",
        "    return (pad_sequences(X, maxlen=max_story_len),pad_sequences(Xq, maxlen=max_question_len), np.array(Y))"
      ],
      "execution_count": 0,
      "outputs": []
    },
    {
      "cell_type": "code",
      "metadata": {
        "id": "6nOWyIcIadv0",
        "colab_type": "code",
        "colab": {}
      },
      "source": [
        "inputs_train, queries_train, answers_train = vectorize_stories(train_data)"
      ],
      "execution_count": 0,
      "outputs": []
    },
    {
      "cell_type": "code",
      "metadata": {
        "id": "ninmgsiXadv1",
        "colab_type": "code",
        "colab": {}
      },
      "source": [
        "inputs_test, queries_test, answers_test = vectorize_stories(test_data)"
      ],
      "execution_count": 0,
      "outputs": []
    },
    {
      "cell_type": "code",
      "metadata": {
        "id": "y99Ik6aSadv2",
        "colab_type": "code",
        "outputId": "90bde365-8886-406e-f448-8fc27be6232b",
        "colab": {
          "base_uri": "https://localhost:8080/",
          "height": 136
        }
      },
      "source": [
        "inputs_test"
      ],
      "execution_count": 0,
      "outputs": [
        {
          "output_type": "execute_result",
          "data": {
            "text/plain": [
              "array([[ 0,  0,  0, ..., 32, 28, 20],\n",
              "       [ 0,  0,  0, ..., 32,  4, 20],\n",
              "       [ 0,  0,  0, ..., 32,  4, 20],\n",
              "       ...,\n",
              "       [ 0,  0,  0, ..., 32, 30, 20],\n",
              "       [ 0,  0,  0, ..., 32,  4, 20],\n",
              "       [ 0,  0,  0, ..., 30, 21, 20]], dtype=int32)"
            ]
          },
          "metadata": {
            "tags": []
          },
          "execution_count": 179
        }
      ]
    },
    {
      "cell_type": "code",
      "metadata": {
        "id": "hSQxVyoWadv4",
        "colab_type": "code",
        "outputId": "3b07dba8-37f0-4b60-b53d-b1e36983be6c",
        "colab": {
          "base_uri": "https://localhost:8080/",
          "height": 136
        }
      },
      "source": [
        "queries_test"
      ],
      "execution_count": 0,
      "outputs": [
        {
          "output_type": "execute_result",
          "data": {
            "text/plain": [
              "array([[ 3, 14,  1, 32, 19, 31],\n",
              "       [ 3, 14,  1, 32, 19, 31],\n",
              "       [ 3, 14,  1, 32,  4, 31],\n",
              "       ...,\n",
              "       [ 3, 23,  1, 32, 28, 31],\n",
              "       [ 3, 11,  1, 32,  4, 31],\n",
              "       [ 3, 23,  1, 32,  4, 31]], dtype=int32)"
            ]
          },
          "metadata": {
            "tags": []
          },
          "execution_count": 180
        }
      ]
    },
    {
      "cell_type": "code",
      "metadata": {
        "id": "jUrnrahNadv5",
        "colab_type": "code",
        "outputId": "66ce6a60-402f-42f3-b880-7f55b7d0e9ad",
        "colab": {
          "base_uri": "https://localhost:8080/",
          "height": 136
        }
      },
      "source": [
        "answers_test"
      ],
      "execution_count": 0,
      "outputs": [
        {
          "output_type": "execute_result",
          "data": {
            "text/plain": [
              "array([[0., 0., 1., ..., 0., 0., 0.],\n",
              "       [0., 0., 1., ..., 0., 0., 0.],\n",
              "       [0., 0., 0., ..., 0., 0., 0.],\n",
              "       ...,\n",
              "       [0., 0., 1., ..., 0., 0., 0.],\n",
              "       [0., 0., 0., ..., 0., 0., 0.],\n",
              "       [0., 0., 0., ..., 0., 0., 0.]])"
            ]
          },
          "metadata": {
            "tags": []
          },
          "execution_count": 181
        }
      ]
    },
    {
      "cell_type": "code",
      "metadata": {
        "id": "VpTxzyRuadv7",
        "colab_type": "code",
        "outputId": "3ce1df90-9543-44a0-a218-3df9a307b332",
        "colab": {
          "base_uri": "https://localhost:8080/",
          "height": 85
        }
      },
      "source": [
        "sum(answers_test)"
      ],
      "execution_count": 0,
      "outputs": [
        {
          "output_type": "execute_result",
          "data": {
            "text/plain": [
              "array([  0.,   0., 503.,   0.,   0.,   0.,   0.,   0.,   0.,   0., 497.,\n",
              "         0.,   0.,   0.,   0.,   0.,   0.,   0.,   0.,   0.,   0.,   0.,\n",
              "         0.,   0.,   0.,   0.,   0.,   0.,   0.,   0.,   0.,   0.,   0.,\n",
              "         0.,   0.,   0.,   0.,   0.])"
            ]
          },
          "metadata": {
            "tags": []
          },
          "execution_count": 182
        }
      ]
    },
    {
      "cell_type": "code",
      "metadata": {
        "id": "Okzh-sWnadv8",
        "colab_type": "code",
        "outputId": "c9957843-479c-4bef-d014-c6994e83eb0b",
        "colab": {
          "base_uri": "https://localhost:8080/",
          "height": 34
        }
      },
      "source": [
        "tokenizer.word_index['yes']"
      ],
      "execution_count": 0,
      "outputs": [
        {
          "output_type": "execute_result",
          "data": {
            "text/plain": [
              "10"
            ]
          },
          "metadata": {
            "tags": []
          },
          "execution_count": 183
        }
      ]
    },
    {
      "cell_type": "code",
      "metadata": {
        "id": "wb2UIup8adv9",
        "colab_type": "code",
        "outputId": "4d961db0-7291-4883-ef10-f6d502990bd6",
        "colab": {
          "base_uri": "https://localhost:8080/",
          "height": 34
        }
      },
      "source": [
        "tokenizer.word_index['no']"
      ],
      "execution_count": 0,
      "outputs": [
        {
          "output_type": "execute_result",
          "data": {
            "text/plain": [
              "2"
            ]
          },
          "metadata": {
            "tags": []
          },
          "execution_count": 184
        }
      ]
    },
    {
      "cell_type": "markdown",
      "metadata": {
        "id": "mMrzWXLaadv_",
        "colab_type": "text"
      },
      "source": [
        "## Creating the Model"
      ]
    },
    {
      "cell_type": "code",
      "metadata": {
        "id": "g72Fvq6Hadv_",
        "colab_type": "code",
        "colab": {}
      },
      "source": [
        "from keras.models import Sequential, Model\n",
        "from keras.layers.embeddings import Embedding\n",
        "from keras.layers import Input, Activation, Dense, Permute, Dropout\n",
        "from keras.layers import add, dot, concatenate\n",
        "from keras.layers import LSTM"
      ],
      "execution_count": 0,
      "outputs": []
    },
    {
      "cell_type": "markdown",
      "metadata": {
        "id": "zO10NZSPadwG",
        "colab_type": "text"
      },
      "source": [
        "### Placeholders for Inputs\n",
        "\n",
        "Recall we technically have two inputs, stories and questions. So we need to use placeholders. `Input()` is used to instantiate a Keras tensor.\n"
      ]
    },
    {
      "cell_type": "code",
      "metadata": {
        "id": "nq0NB6FladwH",
        "colab_type": "code",
        "colab": {}
      },
      "source": [
        "input_sequence = Input((max_story_len,))\n",
        "question = Input((max_question_len,))"
      ],
      "execution_count": 0,
      "outputs": []
    },
    {
      "cell_type": "markdown",
      "metadata": {
        "collapsed": true,
        "id": "sQC2qdq3adwK",
        "colab_type": "text"
      },
      "source": [
        "### Building the Networks\n",
        "\n",
        "To understand why we chose this setup, make sure to read the paper we are using:\n",
        "\n",
        "* Sainbayar Sukhbaatar, Arthur Szlam, Jason Weston, Rob Fergus,\n",
        "  \"End-To-End Memory Networks\",\n",
        "  http://arxiv.org/abs/1503.08895"
      ]
    },
    {
      "cell_type": "markdown",
      "metadata": {
        "id": "9R9fsNU7adwK",
        "colab_type": "text"
      },
      "source": [
        "## Encoders\n",
        "\n",
        "### Input Encoder m"
      ]
    },
    {
      "cell_type": "code",
      "metadata": {
        "id": "fDpvRyqkadwK",
        "colab_type": "code",
        "colab": {}
      },
      "source": [
        "# Input gets embedded to a sequence of vectors\n",
        "input_encoder_m = Sequential()\n",
        "input_encoder_m.add(Embedding(input_dim=vocab_size,output_dim=128))\n",
        "input_encoder_m.add(Dropout(0.3))\n",
        "\n",
        "# This encoder will output:\n",
        "# (samples, story_maxlen, embedding_dim)"
      ],
      "execution_count": 0,
      "outputs": []
    },
    {
      "cell_type": "markdown",
      "metadata": {
        "id": "v_t4Xe7kadwM",
        "colab_type": "text"
      },
      "source": [
        "### Input Encoder c"
      ]
    },
    {
      "cell_type": "code",
      "metadata": {
        "id": "c3tH3868adwM",
        "colab_type": "code",
        "colab": {}
      },
      "source": [
        "# embed the input into a sequence of vectors of size query_maxlen\n",
        "input_encoder_c = Sequential()\n",
        "input_encoder_c.add(Embedding(input_dim=vocab_size,output_dim=max_question_len))\n",
        "input_encoder_c.add(Dropout(0.3))\n",
        "# output: (samples, story_maxlen, query_maxlen)"
      ],
      "execution_count": 0,
      "outputs": []
    },
    {
      "cell_type": "markdown",
      "metadata": {
        "id": "nU4si9kJadwO",
        "colab_type": "text"
      },
      "source": [
        "### Question Encoder"
      ]
    },
    {
      "cell_type": "code",
      "metadata": {
        "id": "80mphfNiadwO",
        "colab_type": "code",
        "colab": {}
      },
      "source": [
        "# embed the question into a sequence of vectors\n",
        "question_encoder = Sequential()\n",
        "question_encoder.add(Embedding(input_dim=vocab_size,\n",
        "                               output_dim=128,\n",
        "                               input_length=max_question_len))\n",
        "question_encoder.add(Dropout(0.3))\n",
        "# output: (samples, query_maxlen, embedding_dim)"
      ],
      "execution_count": 0,
      "outputs": []
    },
    {
      "cell_type": "markdown",
      "metadata": {
        "id": "D0J5y6J3adwQ",
        "colab_type": "text"
      },
      "source": [
        "### Encode the Sequences"
      ]
    },
    {
      "cell_type": "code",
      "metadata": {
        "id": "Xs4UssAhadwQ",
        "colab_type": "code",
        "colab": {}
      },
      "source": [
        "# encode input sequence and questions (which are indices)\n",
        "# to sequences of dense vectors\n",
        "input_encoded_m = input_encoder_m(input_sequence)\n",
        "input_encoded_c = input_encoder_c(input_sequence)\n",
        "question_encoded = question_encoder(question)"
      ],
      "execution_count": 0,
      "outputs": []
    },
    {
      "cell_type": "markdown",
      "metadata": {
        "id": "V5EjSAnGadwR",
        "colab_type": "text"
      },
      "source": [
        "##### Use dot product to compute the match between first input vector seq and the query"
      ]
    },
    {
      "cell_type": "code",
      "metadata": {
        "id": "q8UA8auXadwR",
        "colab_type": "code",
        "colab": {}
      },
      "source": [
        "# shape: `(samples, story_maxlen, query_maxlen)`\n",
        "match = dot([input_encoded_m, question_encoded], axes=(2, 2))\n",
        "match = Activation('sigmoid')(match)"
      ],
      "execution_count": 0,
      "outputs": []
    },
    {
      "cell_type": "markdown",
      "metadata": {
        "id": "mB-fBpoUadwS",
        "colab_type": "text"
      },
      "source": [
        "#### Add this match matrix with the second input vector sequence"
      ]
    },
    {
      "cell_type": "code",
      "metadata": {
        "id": "ZxN7UArwadwT",
        "colab_type": "code",
        "colab": {}
      },
      "source": [
        "# add the match matrix with the second input vector sequence\n",
        "response = add([match, input_encoded_c])  # (samples, story_maxlen, query_maxlen)\n",
        "response = Permute((2, 1))(response)  # (samples, query_maxlen, story_maxlen)"
      ],
      "execution_count": 0,
      "outputs": []
    },
    {
      "cell_type": "markdown",
      "metadata": {
        "id": "MTmaNq-vadwU",
        "colab_type": "text"
      },
      "source": [
        "#### Concatenate"
      ]
    },
    {
      "cell_type": "code",
      "metadata": {
        "id": "Dt0LOW_BadwU",
        "colab_type": "code",
        "colab": {}
      },
      "source": [
        "# concatenate the match matrix with the question vector sequence\n",
        "answer = concatenate([response, question_encoded])"
      ],
      "execution_count": 0,
      "outputs": []
    },
    {
      "cell_type": "code",
      "metadata": {
        "id": "JPeTOcafadwV",
        "colab_type": "code",
        "outputId": "37262713-a5eb-44a5-b20c-eca4fa4b7f15",
        "colab": {
          "base_uri": "https://localhost:8080/",
          "height": 34
        }
      },
      "source": [
        "answer"
      ],
      "execution_count": 0,
      "outputs": [
        {
          "output_type": "execute_result",
          "data": {
            "text/plain": [
              "<tf.Tensor 'concatenate_3/concat:0' shape=(?, 6, 284) dtype=float32>"
            ]
          },
          "metadata": {
            "tags": []
          },
          "execution_count": 194
        }
      ]
    },
    {
      "cell_type": "code",
      "metadata": {
        "id": "Pf_lsnExadwW",
        "colab_type": "code",
        "colab": {}
      },
      "source": [
        "# Reduce with RNN (LSTM)\n",
        "answer = LSTM(32)(answer)  # (samples, 32)"
      ],
      "execution_count": 0,
      "outputs": []
    },
    {
      "cell_type": "code",
      "metadata": {
        "id": "6gFkQ5YvadwX",
        "colab_type": "code",
        "colab": {}
      },
      "source": [
        "# Regularization with Dropout\n",
        "answer = Dropout(0.5)(answer)\n",
        "answer = Dense(vocab_size)(answer)  # (samples, vocab_size)"
      ],
      "execution_count": 0,
      "outputs": []
    },
    {
      "cell_type": "code",
      "metadata": {
        "id": "F5gspCw4adwY",
        "colab_type": "code",
        "colab": {}
      },
      "source": [
        "# we output a probability distribution over the vocabulary\n",
        "answer = Activation('sigmoid')(answer)\n",
        "\n",
        "# build the final model\n",
        "model = Model([input_sequence, question], answer)\n",
        "model.compile(optimizer='rmsprop', loss='binary_crossentropy',\n",
        "              metrics=['accuracy'])"
      ],
      "execution_count": 0,
      "outputs": []
    },
    {
      "cell_type": "code",
      "metadata": {
        "id": "38CpscPuadwZ",
        "colab_type": "code",
        "outputId": "81e4f368-4bdb-48c6-e52f-c297dd379565",
        "colab": {
          "base_uri": "https://localhost:8080/",
          "height": 680
        }
      },
      "source": [
        "model.summary()"
      ],
      "execution_count": 0,
      "outputs": [
        {
          "output_type": "stream",
          "text": [
            "Model: \"model_3\"\n",
            "__________________________________________________________________________________________________\n",
            "Layer (type)                    Output Shape         Param #     Connected to                     \n",
            "==================================================================================================\n",
            "input_5 (InputLayer)            (None, 156)          0                                            \n",
            "__________________________________________________________________________________________________\n",
            "input_6 (InputLayer)            (None, 6)            0                                            \n",
            "__________________________________________________________________________________________________\n",
            "sequential_7 (Sequential)       multiple             4864        input_5[0][0]                    \n",
            "__________________________________________________________________________________________________\n",
            "sequential_9 (Sequential)       (None, 6, 128)       4864        input_6[0][0]                    \n",
            "__________________________________________________________________________________________________\n",
            "dot_3 (Dot)                     (None, 156, 6)       0           sequential_7[1][0]               \n",
            "                                                                 sequential_9[1][0]               \n",
            "__________________________________________________________________________________________________\n",
            "activation_5 (Activation)       (None, 156, 6)       0           dot_3[0][0]                      \n",
            "__________________________________________________________________________________________________\n",
            "sequential_8 (Sequential)       multiple             228         input_5[0][0]                    \n",
            "__________________________________________________________________________________________________\n",
            "add_3 (Add)                     (None, 156, 6)       0           activation_5[0][0]               \n",
            "                                                                 sequential_8[1][0]               \n",
            "__________________________________________________________________________________________________\n",
            "permute_3 (Permute)             (None, 6, 156)       0           add_3[0][0]                      \n",
            "__________________________________________________________________________________________________\n",
            "concatenate_3 (Concatenate)     (None, 6, 284)       0           permute_3[0][0]                  \n",
            "                                                                 sequential_9[1][0]               \n",
            "__________________________________________________________________________________________________\n",
            "lstm_3 (LSTM)                   (None, 32)           40576       concatenate_3[0][0]              \n",
            "__________________________________________________________________________________________________\n",
            "dropout_12 (Dropout)            (None, 32)           0           lstm_3[0][0]                     \n",
            "__________________________________________________________________________________________________\n",
            "dense_3 (Dense)                 (None, 38)           1254        dropout_12[0][0]                 \n",
            "__________________________________________________________________________________________________\n",
            "activation_6 (Activation)       (None, 38)           0           dense_3[0][0]                    \n",
            "==================================================================================================\n",
            "Total params: 51,786\n",
            "Trainable params: 51,786\n",
            "Non-trainable params: 0\n",
            "__________________________________________________________________________________________________\n"
          ],
          "name": "stdout"
        }
      ]
    },
    {
      "cell_type": "code",
      "metadata": {
        "id": "Qe0RViSJadwa",
        "colab_type": "code",
        "outputId": "231a3f4f-531c-4023-9171-a95defb72146",
        "colab": {
          "base_uri": "https://localhost:8080/",
          "height": 1000
        }
      },
      "source": [
        "# train\n",
        "history = model.fit([inputs_train, queries_train], answers_train,batch_size=32,epochs=100,validation_data=([inputs_test, queries_test], answers_test))"
      ],
      "execution_count": 0,
      "outputs": [
        {
          "output_type": "stream",
          "text": [
            "Train on 10000 samples, validate on 1000 samples\n",
            "Epoch 1/100\n",
            "10000/10000 [==============================] - 7s 745us/step - loss: 0.1123 - acc: 0.9547 - val_loss: 0.0367 - val_acc: 0.9735\n",
            "Epoch 2/100\n",
            "10000/10000 [==============================] - 6s 615us/step - loss: 0.0382 - acc: 0.9737 - val_loss: 0.0365 - val_acc: 0.9735\n",
            "Epoch 3/100\n",
            "10000/10000 [==============================] - 6s 608us/step - loss: 0.0369 - acc: 0.9738 - val_loss: 0.0365 - val_acc: 0.9738\n",
            "Epoch 4/100\n",
            "10000/10000 [==============================] - 6s 617us/step - loss: 0.0367 - acc: 0.9736 - val_loss: 0.0365 - val_acc: 0.9738\n",
            "Epoch 5/100\n",
            "10000/10000 [==============================] - 6s 622us/step - loss: 0.0366 - acc: 0.9738 - val_loss: 0.0365 - val_acc: 0.9735\n",
            "Epoch 6/100\n",
            "10000/10000 [==============================] - 6s 620us/step - loss: 0.0366 - acc: 0.9734 - val_loss: 0.0365 - val_acc: 0.9738\n",
            "Epoch 7/100\n",
            "10000/10000 [==============================] - 6s 612us/step - loss: 0.0365 - acc: 0.9738 - val_loss: 0.0365 - val_acc: 0.9738\n",
            "Epoch 8/100\n",
            "10000/10000 [==============================] - 6s 611us/step - loss: 0.0365 - acc: 0.9738 - val_loss: 0.0366 - val_acc: 0.9738\n",
            "Epoch 9/100\n",
            "10000/10000 [==============================] - 6s 608us/step - loss: 0.0365 - acc: 0.9738 - val_loss: 0.0365 - val_acc: 0.9735\n",
            "Epoch 10/100\n",
            "10000/10000 [==============================] - 6s 613us/step - loss: 0.0365 - acc: 0.9739 - val_loss: 0.0365 - val_acc: 0.9735\n",
            "Epoch 11/100\n",
            "10000/10000 [==============================] - 6s 611us/step - loss: 0.0365 - acc: 0.9741 - val_loss: 0.0365 - val_acc: 0.9735\n",
            "Epoch 12/100\n",
            "10000/10000 [==============================] - 6s 603us/step - loss: 0.0365 - acc: 0.9737 - val_loss: 0.0365 - val_acc: 0.9738\n",
            "Epoch 13/100\n",
            "10000/10000 [==============================] - 6s 611us/step - loss: 0.0365 - acc: 0.9734 - val_loss: 0.0366 - val_acc: 0.9735\n",
            "Epoch 14/100\n",
            "10000/10000 [==============================] - 6s 609us/step - loss: 0.0365 - acc: 0.9742 - val_loss: 0.0366 - val_acc: 0.9735\n",
            "Epoch 15/100\n",
            "10000/10000 [==============================] - 6s 614us/step - loss: 0.0365 - acc: 0.9736 - val_loss: 0.0365 - val_acc: 0.9739\n",
            "Epoch 16/100\n",
            "10000/10000 [==============================] - 6s 607us/step - loss: 0.0365 - acc: 0.9735 - val_loss: 0.0365 - val_acc: 0.9730\n",
            "Epoch 17/100\n",
            "10000/10000 [==============================] - 6s 633us/step - loss: 0.0364 - acc: 0.9745 - val_loss: 0.0365 - val_acc: 0.9733\n",
            "Epoch 18/100\n",
            "10000/10000 [==============================] - 6s 618us/step - loss: 0.0362 - acc: 0.9757 - val_loss: 0.0359 - val_acc: 0.9758\n",
            "Epoch 19/100\n",
            "10000/10000 [==============================] - 6s 608us/step - loss: 0.0352 - acc: 0.9777 - val_loss: 0.0344 - val_acc: 0.9784\n",
            "Epoch 20/100\n",
            "10000/10000 [==============================] - 6s 620us/step - loss: 0.0343 - acc: 0.9795 - val_loss: 0.0337 - val_acc: 0.9803\n",
            "Epoch 21/100\n",
            "10000/10000 [==============================] - 6s 613us/step - loss: 0.0332 - acc: 0.9807 - val_loss: 0.0328 - val_acc: 0.9806\n",
            "Epoch 22/100\n",
            "10000/10000 [==============================] - 6s 605us/step - loss: 0.0324 - acc: 0.9818 - val_loss: 0.0321 - val_acc: 0.9820\n",
            "Epoch 23/100\n",
            "10000/10000 [==============================] - 6s 610us/step - loss: 0.0311 - acc: 0.9832 - val_loss: 0.0306 - val_acc: 0.9833\n",
            "Epoch 24/100\n",
            "10000/10000 [==============================] - 6s 612us/step - loss: 0.0301 - acc: 0.9839 - val_loss: 0.0289 - val_acc: 0.9852\n",
            "Epoch 25/100\n",
            "10000/10000 [==============================] - 6s 603us/step - loss: 0.0291 - acc: 0.9852 - val_loss: 0.0281 - val_acc: 0.9858\n",
            "Epoch 26/100\n",
            "10000/10000 [==============================] - 6s 605us/step - loss: 0.0281 - acc: 0.9862 - val_loss: 0.0281 - val_acc: 0.9860\n",
            "Epoch 27/100\n",
            "10000/10000 [==============================] - 6s 605us/step - loss: 0.0273 - acc: 0.9866 - val_loss: 0.0265 - val_acc: 0.9871\n",
            "Epoch 28/100\n",
            "10000/10000 [==============================] - 6s 600us/step - loss: 0.0261 - acc: 0.9876 - val_loss: 0.0256 - val_acc: 0.9874\n",
            "Epoch 29/100\n",
            "10000/10000 [==============================] - 6s 597us/step - loss: 0.0257 - acc: 0.9879 - val_loss: 0.0255 - val_acc: 0.9877\n",
            "Epoch 30/100\n",
            "10000/10000 [==============================] - 6s 606us/step - loss: 0.0248 - acc: 0.9883 - val_loss: 0.0239 - val_acc: 0.9889\n",
            "Epoch 31/100\n",
            "10000/10000 [==============================] - 6s 598us/step - loss: 0.0242 - acc: 0.9891 - val_loss: 0.0231 - val_acc: 0.9889\n",
            "Epoch 32/100\n",
            "10000/10000 [==============================] - 6s 611us/step - loss: 0.0235 - acc: 0.9897 - val_loss: 0.0233 - val_acc: 0.9891\n",
            "Epoch 33/100\n",
            "10000/10000 [==============================] - 6s 605us/step - loss: 0.0226 - acc: 0.9899 - val_loss: 0.0225 - val_acc: 0.9895\n",
            "Epoch 34/100\n",
            "10000/10000 [==============================] - 6s 611us/step - loss: 0.0222 - acc: 0.9900 - val_loss: 0.0223 - val_acc: 0.9902\n",
            "Epoch 35/100\n",
            "10000/10000 [==============================] - 6s 601us/step - loss: 0.0219 - acc: 0.9902 - val_loss: 0.0240 - val_acc: 0.9893\n",
            "Epoch 36/100\n",
            "10000/10000 [==============================] - 6s 598us/step - loss: 0.0214 - acc: 0.9903 - val_loss: 0.0221 - val_acc: 0.9901\n",
            "Epoch 37/100\n",
            "10000/10000 [==============================] - 6s 606us/step - loss: 0.0214 - acc: 0.9905 - val_loss: 0.0205 - val_acc: 0.9909\n",
            "Epoch 38/100\n",
            "10000/10000 [==============================] - 6s 597us/step - loss: 0.0207 - acc: 0.9910 - val_loss: 0.0212 - val_acc: 0.9903\n",
            "Epoch 39/100\n",
            "10000/10000 [==============================] - 6s 602us/step - loss: 0.0206 - acc: 0.9911 - val_loss: 0.0214 - val_acc: 0.9903\n",
            "Epoch 40/100\n",
            "10000/10000 [==============================] - 6s 605us/step - loss: 0.0204 - acc: 0.9912 - val_loss: 0.0223 - val_acc: 0.9897\n",
            "Epoch 41/100\n",
            "10000/10000 [==============================] - 6s 600us/step - loss: 0.0195 - acc: 0.9916 - val_loss: 0.0233 - val_acc: 0.9899\n",
            "Epoch 42/100\n",
            "10000/10000 [==============================] - 6s 606us/step - loss: 0.0190 - acc: 0.9921 - val_loss: 0.0199 - val_acc: 0.9907\n",
            "Epoch 43/100\n",
            "10000/10000 [==============================] - 6s 600us/step - loss: 0.0185 - acc: 0.9922 - val_loss: 0.0204 - val_acc: 0.9908\n",
            "Epoch 44/100\n",
            "10000/10000 [==============================] - 6s 604us/step - loss: 0.0186 - acc: 0.9922 - val_loss: 0.0207 - val_acc: 0.9907\n",
            "Epoch 45/100\n",
            "10000/10000 [==============================] - 6s 609us/step - loss: 0.0183 - acc: 0.9924 - val_loss: 0.0202 - val_acc: 0.9907\n",
            "Epoch 46/100\n",
            "10000/10000 [==============================] - 6s 600us/step - loss: 0.0179 - acc: 0.9925 - val_loss: 0.0220 - val_acc: 0.9902\n",
            "Epoch 47/100\n",
            "10000/10000 [==============================] - 6s 594us/step - loss: 0.0180 - acc: 0.9924 - val_loss: 0.0196 - val_acc: 0.9910\n",
            "Epoch 48/100\n",
            "10000/10000 [==============================] - 6s 605us/step - loss: 0.0180 - acc: 0.9924 - val_loss: 0.0197 - val_acc: 0.9909\n",
            "Epoch 49/100\n",
            "10000/10000 [==============================] - 6s 602us/step - loss: 0.0174 - acc: 0.9925 - val_loss: 0.0204 - val_acc: 0.9901\n",
            "Epoch 50/100\n",
            "10000/10000 [==============================] - 6s 596us/step - loss: 0.0172 - acc: 0.9926 - val_loss: 0.0200 - val_acc: 0.9912\n",
            "Epoch 51/100\n",
            "10000/10000 [==============================] - 6s 601us/step - loss: 0.0174 - acc: 0.9924 - val_loss: 0.0185 - val_acc: 0.9915\n",
            "Epoch 52/100\n",
            "10000/10000 [==============================] - 6s 601us/step - loss: 0.0173 - acc: 0.9927 - val_loss: 0.0203 - val_acc: 0.9910\n",
            "Epoch 53/100\n",
            "10000/10000 [==============================] - 6s 602us/step - loss: 0.0172 - acc: 0.9926 - val_loss: 0.0186 - val_acc: 0.9913\n",
            "Epoch 54/100\n",
            "10000/10000 [==============================] - 6s 598us/step - loss: 0.0171 - acc: 0.9927 - val_loss: 0.0189 - val_acc: 0.9909\n",
            "Epoch 55/100\n",
            "10000/10000 [==============================] - 6s 600us/step - loss: 0.0169 - acc: 0.9926 - val_loss: 0.0196 - val_acc: 0.9911\n",
            "Epoch 56/100\n",
            "10000/10000 [==============================] - 6s 606us/step - loss: 0.0170 - acc: 0.9927 - val_loss: 0.0202 - val_acc: 0.9912\n",
            "Epoch 57/100\n",
            "10000/10000 [==============================] - 6s 596us/step - loss: 0.0169 - acc: 0.9927 - val_loss: 0.0190 - val_acc: 0.9912\n",
            "Epoch 58/100\n",
            "10000/10000 [==============================] - 6s 599us/step - loss: 0.0167 - acc: 0.9929 - val_loss: 0.0186 - val_acc: 0.9915\n",
            "Epoch 59/100\n",
            "10000/10000 [==============================] - 6s 600us/step - loss: 0.0165 - acc: 0.9929 - val_loss: 0.0187 - val_acc: 0.9911\n",
            "Epoch 60/100\n",
            "10000/10000 [==============================] - 6s 596us/step - loss: 0.0165 - acc: 0.9930 - val_loss: 0.0205 - val_acc: 0.9904\n",
            "Epoch 61/100\n",
            "10000/10000 [==============================] - 6s 590us/step - loss: 0.0165 - acc: 0.9929 - val_loss: 0.0217 - val_acc: 0.9906\n",
            "Epoch 62/100\n",
            "10000/10000 [==============================] - 6s 599us/step - loss: 0.0166 - acc: 0.9928 - val_loss: 0.0188 - val_acc: 0.9917\n",
            "Epoch 63/100\n",
            "10000/10000 [==============================] - 6s 598us/step - loss: 0.0165 - acc: 0.9928 - val_loss: 0.0190 - val_acc: 0.9916\n",
            "Epoch 64/100\n",
            "10000/10000 [==============================] - 6s 602us/step - loss: 0.0166 - acc: 0.9929 - val_loss: 0.0190 - val_acc: 0.9911\n",
            "Epoch 65/100\n",
            "10000/10000 [==============================] - 6s 594us/step - loss: 0.0163 - acc: 0.9930 - val_loss: 0.0191 - val_acc: 0.9912\n",
            "Epoch 66/100\n",
            "10000/10000 [==============================] - 6s 605us/step - loss: 0.0161 - acc: 0.9931 - val_loss: 0.0192 - val_acc: 0.9914\n",
            "Epoch 67/100\n",
            "10000/10000 [==============================] - 6s 604us/step - loss: 0.0162 - acc: 0.9931 - val_loss: 0.0187 - val_acc: 0.9916\n",
            "Epoch 68/100\n",
            "10000/10000 [==============================] - 6s 618us/step - loss: 0.0159 - acc: 0.9932 - val_loss: 0.0234 - val_acc: 0.9903\n",
            "Epoch 69/100\n",
            "10000/10000 [==============================] - 6s 613us/step - loss: 0.0158 - acc: 0.9934 - val_loss: 0.0188 - val_acc: 0.9914\n",
            "Epoch 70/100\n",
            "10000/10000 [==============================] - 6s 603us/step - loss: 0.0158 - acc: 0.9932 - val_loss: 0.0191 - val_acc: 0.9912\n",
            "Epoch 71/100\n",
            "10000/10000 [==============================] - 6s 618us/step - loss: 0.0160 - acc: 0.9932 - val_loss: 0.0181 - val_acc: 0.9913\n",
            "Epoch 72/100\n",
            "10000/10000 [==============================] - 6s 600us/step - loss: 0.0156 - acc: 0.9933 - val_loss: 0.0196 - val_acc: 0.9912\n",
            "Epoch 73/100\n",
            "10000/10000 [==============================] - 6s 604us/step - loss: 0.0157 - acc: 0.9932 - val_loss: 0.0200 - val_acc: 0.9913\n",
            "Epoch 74/100\n",
            "10000/10000 [==============================] - 6s 604us/step - loss: 0.0156 - acc: 0.9932 - val_loss: 0.0231 - val_acc: 0.9895\n",
            "Epoch 75/100\n",
            "10000/10000 [==============================] - 6s 598us/step - loss: 0.0159 - acc: 0.9932 - val_loss: 0.0189 - val_acc: 0.9914\n",
            "Epoch 76/100\n",
            "10000/10000 [==============================] - 6s 598us/step - loss: 0.0155 - acc: 0.9933 - val_loss: 0.0183 - val_acc: 0.9917\n",
            "Epoch 77/100\n",
            "10000/10000 [==============================] - 6s 594us/step - loss: 0.0154 - acc: 0.9933 - val_loss: 0.0193 - val_acc: 0.9911\n",
            "Epoch 78/100\n",
            "10000/10000 [==============================] - 6s 600us/step - loss: 0.0155 - acc: 0.9933 - val_loss: 0.0199 - val_acc: 0.9906\n",
            "Epoch 79/100\n",
            "10000/10000 [==============================] - 6s 596us/step - loss: 0.0154 - acc: 0.9932 - val_loss: 0.0197 - val_acc: 0.9906\n",
            "Epoch 80/100\n",
            "10000/10000 [==============================] - 6s 603us/step - loss: 0.0156 - acc: 0.9933 - val_loss: 0.0202 - val_acc: 0.9906\n",
            "Epoch 81/100\n",
            "10000/10000 [==============================] - 6s 599us/step - loss: 0.0153 - acc: 0.9933 - val_loss: 0.0190 - val_acc: 0.9916\n",
            "Epoch 82/100\n",
            "10000/10000 [==============================] - 6s 603us/step - loss: 0.0153 - acc: 0.9934 - val_loss: 0.0188 - val_acc: 0.9917\n",
            "Epoch 83/100\n",
            "10000/10000 [==============================] - 6s 604us/step - loss: 0.0152 - acc: 0.9935 - val_loss: 0.0194 - val_acc: 0.9914\n",
            "Epoch 84/100\n",
            "10000/10000 [==============================] - 6s 607us/step - loss: 0.0151 - acc: 0.9935 - val_loss: 0.0198 - val_acc: 0.9916\n",
            "Epoch 85/100\n",
            "10000/10000 [==============================] - 6s 601us/step - loss: 0.0152 - acc: 0.9935 - val_loss: 0.0211 - val_acc: 0.9912\n",
            "Epoch 86/100\n",
            "10000/10000 [==============================] - 6s 600us/step - loss: 0.0151 - acc: 0.9935 - val_loss: 0.0199 - val_acc: 0.9914\n",
            "Epoch 87/100\n",
            "10000/10000 [==============================] - 6s 591us/step - loss: 0.0151 - acc: 0.9935 - val_loss: 0.0214 - val_acc: 0.9902\n",
            "Epoch 88/100\n",
            "10000/10000 [==============================] - 6s 600us/step - loss: 0.0151 - acc: 0.9935 - val_loss: 0.0188 - val_acc: 0.9915\n",
            "Epoch 89/100\n",
            "10000/10000 [==============================] - 6s 603us/step - loss: 0.0150 - acc: 0.9935 - val_loss: 0.0195 - val_acc: 0.9912\n",
            "Epoch 90/100\n",
            "10000/10000 [==============================] - 6s 603us/step - loss: 0.0151 - acc: 0.9936 - val_loss: 0.0195 - val_acc: 0.9911\n",
            "Epoch 91/100\n",
            "10000/10000 [==============================] - 6s 597us/step - loss: 0.0149 - acc: 0.9936 - val_loss: 0.0212 - val_acc: 0.9911\n",
            "Epoch 92/100\n",
            "10000/10000 [==============================] - 6s 600us/step - loss: 0.0148 - acc: 0.9936 - val_loss: 0.0241 - val_acc: 0.9902\n",
            "Epoch 93/100\n",
            "10000/10000 [==============================] - 6s 602us/step - loss: 0.0147 - acc: 0.9938 - val_loss: 0.0211 - val_acc: 0.9913\n",
            "Epoch 94/100\n",
            "10000/10000 [==============================] - 6s 591us/step - loss: 0.0147 - acc: 0.9938 - val_loss: 0.0196 - val_acc: 0.9915\n",
            "Epoch 95/100\n",
            "10000/10000 [==============================] - 6s 592us/step - loss: 0.0147 - acc: 0.9937 - val_loss: 0.0196 - val_acc: 0.9914\n",
            "Epoch 96/100\n",
            "10000/10000 [==============================] - 6s 590us/step - loss: 0.0146 - acc: 0.9940 - val_loss: 0.0194 - val_acc: 0.9915\n",
            "Epoch 97/100\n",
            "10000/10000 [==============================] - 6s 593us/step - loss: 0.0147 - acc: 0.9938 - val_loss: 0.0214 - val_acc: 0.9911\n",
            "Epoch 98/100\n",
            "10000/10000 [==============================] - 6s 606us/step - loss: 0.0144 - acc: 0.9938 - val_loss: 0.0209 - val_acc: 0.9909\n",
            "Epoch 99/100\n",
            "10000/10000 [==============================] - 6s 593us/step - loss: 0.0144 - acc: 0.9937 - val_loss: 0.0209 - val_acc: 0.9915\n",
            "Epoch 100/100\n",
            "10000/10000 [==============================] - 6s 603us/step - loss: 0.0147 - acc: 0.9936 - val_loss: 0.0200 - val_acc: 0.9911\n"
          ],
          "name": "stdout"
        }
      ]
    },
    {
      "cell_type": "markdown",
      "metadata": {
        "id": "uGg0_cH1adwb",
        "colab_type": "text"
      },
      "source": [
        "### Saving the Model"
      ]
    },
    {
      "cell_type": "code",
      "metadata": {
        "id": "PJ9dr85Aadwb",
        "colab_type": "code",
        "colab": {}
      },
      "source": [
        "filename = 'chatbot_120_epochs.h5'\n",
        "model.save(filename)"
      ],
      "execution_count": 0,
      "outputs": []
    },
    {
      "cell_type": "markdown",
      "metadata": {
        "id": "YhaE2Eg7adwe",
        "colab_type": "text"
      },
      "source": [
        "## Evaluating the Model\n",
        "\n",
        "### Plotting Out Training History"
      ]
    },
    {
      "cell_type": "code",
      "metadata": {
        "id": "XR-MXCJ7adwf",
        "colab_type": "code",
        "outputId": "ef451f58-ba3e-44be-fc35-deea37aa35d2",
        "colab": {
          "base_uri": "https://localhost:8080/",
          "height": 312
        }
      },
      "source": [
        "import matplotlib.pyplot as plt\n",
        "%matplotlib inline\n",
        "print(history.history.keys())\n",
        "# summarize history for accuracy\n",
        "plt.plot(history.history['acc'])\n",
        "plt.plot(history.history['val_acc'])\n",
        "plt.title('model accuracy')\n",
        "plt.ylabel('accuracy')\n",
        "plt.xlabel('epoch')\n",
        "plt.legend(['train', 'test'], loc='upper left')\n",
        "plt.show()"
      ],
      "execution_count": 0,
      "outputs": [
        {
          "output_type": "stream",
          "text": [
            "dict_keys(['val_loss', 'val_acc', 'loss', 'acc'])\n"
          ],
          "name": "stdout"
        },
        {
          "output_type": "display_data",
          "data": {
            "image/png": "[encoded data removed]",
            "text/plain": [
              "<Figure size 432x288 with 1 Axes>"
            ]
          },
          "metadata": {
            "tags": []
          }
        }
      ]
    },
    {
      "cell_type": "markdown",
      "metadata": {
        "id": "iT_uVAAGadwg",
        "colab_type": "text"
      },
      "source": [
        "### Evaluating on Given Test Set"
      ]
    },
    {
      "cell_type": "code",
      "metadata": {
        "id": "t2HBSqPradwh",
        "colab_type": "code",
        "colab": {}
      },
      "source": [
        "model.load_weights(filename)\n",
        "pred_results = model.predict(([inputs_test, queries_test]))"
      ],
      "execution_count": 0,
      "outputs": []
    },
    {
      "cell_type": "code",
      "metadata": {
        "id": "DZ2HgR82adwi",
        "colab_type": "code",
        "outputId": "f955fcfb-0d2c-4217-b6e6-42cadfe87da0",
        "colab": {
          "base_uri": "https://localhost:8080/",
          "height": 221
        }
      },
      "source": [
        "test_data[0][0]"
      ],
      "execution_count": 0,
      "outputs": [
        {
          "output_type": "execute_result",
          "data": {
            "text/plain": [
              "['Mary',\n",
              " 'got',\n",
              " 'the',\n",
              " 'milk',\n",
              " 'there',\n",
              " '.',\n",
              " 'John',\n",
              " 'moved',\n",
              " 'to',\n",
              " 'the',\n",
              " 'bedroom',\n",
              " '.']"
            ]
          },
          "metadata": {
            "tags": []
          },
          "execution_count": 203
        }
      ]
    },
    {
      "cell_type": "code",
      "metadata": {
        "id": "XjqNpoFJadwj",
        "colab_type": "code",
        "outputId": "003d10a4-24ed-4db4-d992-028e3e593f92",
        "colab": {
          "base_uri": "https://localhost:8080/",
          "height": 34
        }
      },
      "source": [
        "story =' '.join(word for word in test_data[0][0])\n",
        "print(story)"
      ],
      "execution_count": 0,
      "outputs": [
        {
          "output_type": "stream",
          "text": [
            "Mary got the milk there . John moved to the bedroom .\n"
          ],
          "name": "stdout"
        }
      ]
    },
    {
      "cell_type": "code",
      "metadata": {
        "id": "oDRqrhS-adwk",
        "colab_type": "code",
        "outputId": "eecd1182-aa52-4911-e16c-1211eb748b2c",
        "colab": {
          "base_uri": "https://localhost:8080/",
          "height": 34
        }
      },
      "source": [
        "query = ' '.join(word for word in test_data[0][1])\n",
        "print(query)"
      ],
      "execution_count": 0,
      "outputs": [
        {
          "output_type": "stream",
          "text": [
            "Is John in the kitchen ?\n"
          ],
          "name": "stdout"
        }
      ]
    },
    {
      "cell_type": "code",
      "metadata": {
        "id": "OoQ1AjWPadwl",
        "colab_type": "code",
        "outputId": "23d4ccd5-3a79-4b55-e40a-3a85eff467ac",
        "colab": {
          "base_uri": "https://localhost:8080/",
          "height": 34
        }
      },
      "source": [
        "print(\"True Test Answer from Data is:\",test_data[0][2])"
      ],
      "execution_count": 0,
      "outputs": [
        {
          "output_type": "stream",
          "text": [
            "True Test Answer from Data is: no\n"
          ],
          "name": "stdout"
        }
      ]
    },
    {
      "cell_type": "code",
      "metadata": {
        "id": "VaIdWQX5adwn",
        "colab_type": "code",
        "outputId": "48ad162c-735b-41a4-cb77-12a2620ec08a",
        "colab": {
          "base_uri": "https://localhost:8080/",
          "height": 51
        }
      },
      "source": [
        "#Generate prediction from model\n",
        "val_max = np.argmax(pred_results[0])\n",
        "\n",
        "for key, val in tokenizer.word_index.items():\n",
        "    if val == val_max:\n",
        "        k = key\n",
        "\n",
        "print(\"Predicted answer is: \", k)\n",
        "print(\"Probability of certainty was: \", pred_results[0][val_max])"
      ],
      "execution_count": 0,
      "outputs": [
        {
          "output_type": "stream",
          "text": [
            "Predicted answer is:  no\n",
            "Probability of certainty was:  0.9996698\n"
          ],
          "name": "stdout"
        }
      ]
    },
    {
      "cell_type": "markdown",
      "metadata": {
        "id": "P-RYHpqIadwo",
        "colab_type": "text"
      },
      "source": [
        "## Writing Your Own Stories and Questions\n",
        "\n",
        "Remember you can only use words from the existing vocab"
      ]
    },
    {
      "cell_type": "code",
      "metadata": {
        "id": "RI2ZwsLmadwo",
        "colab_type": "code",
        "outputId": "0699ee23-8c95-4515-8020-5e4274ef11f3",
        "colab": {
          "base_uri": "https://localhost:8080/",
          "height": 646
        }
      },
      "source": [
        "vocab"
      ],
      "execution_count": 0,
      "outputs": [
        {
          "output_type": "execute_result",
          "data": {
            "text/plain": [
              "{'.',\n",
              " '?',\n",
              " 'Daniel',\n",
              " 'Is',\n",
              " 'John',\n",
              " 'Mary',\n",
              " 'Sandra',\n",
              " 'apple',\n",
              " 'back',\n",
              " 'bathroom',\n",
              " 'bedroom',\n",
              " 'discarded',\n",
              " 'down',\n",
              " 'dropped',\n",
              " 'football',\n",
              " 'garden',\n",
              " 'got',\n",
              " 'grabbed',\n",
              " 'hallway',\n",
              " 'in',\n",
              " 'journeyed',\n",
              " 'kitchen',\n",
              " 'left',\n",
              " 'milk',\n",
              " 'moved',\n",
              " 'no',\n",
              " 'office',\n",
              " 'picked',\n",
              " 'put',\n",
              " 'the',\n",
              " 'there',\n",
              " 'to',\n",
              " 'took',\n",
              " 'travelled',\n",
              " 'up',\n",
              " 'went',\n",
              " 'yes'}"
            ]
          },
          "metadata": {
            "tags": []
          },
          "execution_count": 208
        }
      ]
    },
    {
      "cell_type": "code",
      "metadata": {
        "id": "tAp8k3qkadwp",
        "colab_type": "code",
        "outputId": "84f8df2f-4beb-4440-ae97-a2f63591b9f2",
        "colab": {
          "base_uri": "https://localhost:8080/",
          "height": 238
        }
      },
      "source": [
        "# Note the whitespace of the periods\n",
        "my_story = \"John left the kitchen . Sandra dropped the football in the garden .\"\n",
        "my_story.split()"
      ],
      "execution_count": 0,
      "outputs": [
        {
          "output_type": "execute_result",
          "data": {
            "text/plain": [
              "['John',\n",
              " 'left',\n",
              " 'the',\n",
              " 'kitchen',\n",
              " '.',\n",
              " 'Sandra',\n",
              " 'dropped',\n",
              " 'the',\n",
              " 'football',\n",
              " 'in',\n",
              " 'the',\n",
              " 'garden',\n",
              " '.']"
            ]
          },
          "metadata": {
            "tags": []
          },
          "execution_count": 209
        }
      ]
    },
    {
      "cell_type": "code",
      "metadata": {
        "id": "yENKvVTMadwq",
        "colab_type": "code",
        "colab": {}
      },
      "source": [
        "my_question = \"Is the football in the garden ?\""
      ],
      "execution_count": 0,
      "outputs": []
    },
    {
      "cell_type": "code",
      "metadata": {
        "id": "mIOQdnNRadws",
        "colab_type": "code",
        "outputId": "07968954-01c6-48cd-f9e7-5c7b75798d59",
        "colab": {
          "base_uri": "https://localhost:8080/",
          "height": 34
        }
      },
      "source": [
        "my_question.split()"
      ],
      "execution_count": 0,
      "outputs": [
        {
          "output_type": "execute_result",
          "data": {
            "text/plain": [
              "['Is', 'the', 'football', 'in', 'the', 'garden', '?']"
            ]
          },
          "metadata": {
            "tags": []
          },
          "execution_count": 211
        }
      ]
    },
    {
      "cell_type": "code",
      "metadata": {
        "id": "q0sUk6PNadwt",
        "colab_type": "code",
        "colab": {}
      },
      "source": [
        "mydata = [(my_story.split(),my_question.split(),'yes')]"
      ],
      "execution_count": 0,
      "outputs": []
    },
    {
      "cell_type": "code",
      "metadata": {
        "id": "b2E1_XGBadwv",
        "colab_type": "code",
        "colab": {}
      },
      "source": [
        "my_story,my_ques,my_ans = vectorize_stories(mydata)"
      ],
      "execution_count": 0,
      "outputs": []
    },
    {
      "cell_type": "code",
      "metadata": {
        "id": "tMsRPJs_adww",
        "colab_type": "code",
        "colab": {}
      },
      "source": [
        "pred_results = model.predict(([ my_story, my_ques]))"
      ],
      "execution_count": 0,
      "outputs": []
    },
    {
      "cell_type": "code",
      "metadata": {
        "id": "6gswPo9cadwx",
        "colab_type": "code",
        "outputId": "9ff7ea7d-96a7-49bf-8c0d-78cc920525c8",
        "colab": {
          "base_uri": "https://localhost:8080/",
          "height": 51
        }
      },
      "source": [
        "#Generate prediction from model\n",
        "val_max = np.argmax(pred_results[0])\n",
        "\n",
        "for key, val in tokenizer.word_index.items():\n",
        "    if val == val_max:\n",
        "        k = key\n",
        "\n",
        "print(\"Predicted answer is: \", k)\n",
        "print(\"Probability of certainty was: \", pred_results[0][val_max])"
      ],
      "execution_count": 0,
      "outputs": [
        {
          "output_type": "stream",
          "text": [
            "Predicted answer is:  yes\n",
            "Probability of certainty was:  0.96931225\n"
          ],
          "name": "stdout"
        }
      ]
    }
  ]
}